{
 "cells": [
  {
   "cell_type": "code",
   "outputs": [
    {
     "name": "stdout",
     "output_type": "stream",
     "text": [
      "env: CUDA_LAUNCH_BLOCKING=1\n"
     ]
    }
   ],
   "source": [
    "%env CUDA_LAUNCH_BLOCKING=1"
   ],
   "metadata": {
    "collapsed": false,
    "ExecuteTime": {
     "end_time": "2024-03-31T10:36:05.438230600Z",
     "start_time": "2024-03-31T10:36:05.430455300Z"
    }
   },
   "id": "d27e508d2ca0b92a",
   "execution_count": 1
  },
  {
   "cell_type": "code",
   "outputs": [],
   "source": [
    "import torch\n",
    "from torch.nn.utils.rnn import pad_sequence\n",
    "from torch.optim import AdamW\n",
    "from torch.utils.data import DataLoader\n",
    "from transformers import BertTokenizerFast\n",
    "from BertCRF import BertCRF\n",
    "import datasets\n",
    "from dataloader import NERDataset"
   ],
   "metadata": {
    "collapsed": false,
    "ExecuteTime": {
     "end_time": "2024-03-31T10:36:07.802506600Z",
     "start_time": "2024-03-31T10:36:05.433068200Z"
    }
   },
   "id": "12262526d1e689da",
   "execution_count": 2
  },
  {
   "cell_type": "code",
   "outputs": [],
   "source": [
    "# load data\n",
    "data = datasets.load_dataset(\"json\", data_files='dataset.json', split='train')\n",
    "train_dataset, val_dataset = data.train_test_split(test_size=0.2).values()"
   ],
   "metadata": {
    "collapsed": false,
    "ExecuteTime": {
     "end_time": "2024-03-31T10:36:10.786802700Z",
     "start_time": "2024-03-31T10:36:07.802506600Z"
    }
   },
   "id": "9993b17fe70512ea",
   "execution_count": 3
  },
  {
   "cell_type": "code",
   "outputs": [],
   "source": [
    "tokenizer = BertTokenizerFast.from_pretrained(\"bert-base-uncased\")"
   ],
   "metadata": {
    "collapsed": false,
    "ExecuteTime": {
     "end_time": "2024-03-31T10:36:12.418664700Z",
     "start_time": "2024-03-31T10:36:10.787803500Z"
    }
   },
   "id": "22033cd5a976321f",
   "execution_count": 4
  },
  {
   "cell_type": "code",
   "outputs": [],
   "source": [
    "# process the EOS tag\n",
    "def align_labels(text, tags):\n",
    "    tokenized_inputs = tokenizer(text, truncation=True, padding=True, max_length=512, return_offsets_mapping=True,\n",
    "                                is_split_into_words=False)\n",
    "    offsets = tokenized_inputs['offset_mapping']\n",
    "    new_labels = []\n",
    "    tag_index = 0\n",
    "\n",
    "    for offset in offsets:\n",
    "        if offset == (0, 0):\n",
    "            new_labels.append(0)\n",
    "        else:\n",
    "            if tag_index < len(tags):\n",
    "                new_labels.append(tags[tag_index])\n",
    "                tag_index += 1\n",
    "            else:\n",
    "                new_labels.append(0)\n",
    "\n",
    "    while len(new_labels) < len(tokenized_inputs['input_ids']):\n",
    "        new_labels.append(0)\n",
    "    return {\n",
    "        \"input_ids\": torch.tensor(tokenized_inputs['input_ids']),\n",
    "        \"attention_mask\": torch.tensor(tokenized_inputs['attention_mask']),\n",
    "        \"labels\": torch.tensor(new_labels)\n",
    "    }"
   ],
   "metadata": {
    "collapsed": false,
    "ExecuteTime": {
     "end_time": "2024-03-31T10:36:12.438385600Z",
     "start_time": "2024-03-31T10:36:12.420897400Z"
    }
   },
   "id": "6bdd245cf1db2be9",
   "execution_count": 5
  },
  {
   "cell_type": "code",
   "outputs": [],
   "source": [
    "# padding tag and mask to remain the same dim of inputs_ids\n",
    "def token_func(batch):\n",
    "\n",
    "    batch_input_ids = []\n",
    "    batch_attention_mask = []\n",
    "    batch_labels = []\n",
    "\n",
    "    for item in batch:\n",
    "\n",
    "        tokenized_and_aligned = align_labels(text=item['text'], tags=item['tags'])\n",
    "        batch_input_ids.append(tokenized_and_aligned['input_ids'])\n",
    "        batch_attention_mask.append(tokenized_and_aligned['attention_mask'])\n",
    "        batch_labels.append(tokenized_and_aligned['labels'])\n",
    "\n",
    "    input_ids = pad_sequence(batch_input_ids, batch_first=True, padding_value=tokenizer.pad_token_id)\n",
    "    attention_mask = pad_sequence(batch_attention_mask, batch_first=True, padding_value=0)\n",
    "    labels = pad_sequence(batch_labels, batch_first=True, padding_value=0)\n",
    "\n",
    "    return {\n",
    "        \"input_ids\": input_ids,\n",
    "        \"attention_mask\": attention_mask,\n",
    "        \"labels\": labels\n",
    "    }"
   ],
   "metadata": {
    "collapsed": false,
    "ExecuteTime": {
     "end_time": "2024-03-31T10:36:12.438385600Z",
     "start_time": "2024-03-31T10:36:12.423235100Z"
    }
   },
   "id": "9143e2cab2081b9c",
   "execution_count": 6
  },
  {
   "cell_type": "code",
   "outputs": [],
   "source": [
    "batch_size = 16\n",
    "train_dataset = NERDataset(train_dataset)\n",
    "val_dataset = NERDataset(val_dataset)\n",
    "\n",
    "train_dataloader = DataLoader(train_dataset, batch_size=batch_size, shuffle=True, collate_fn=token_func)\n",
    "val_dataloader = DataLoader(val_dataset, batch_size=batch_size, shuffle=False, collate_fn=token_func)\n",
    "\n",
    "model = BertCRF('bert-base-uncased', num_tags=9).to(\"cuda:0\")"
   ],
   "metadata": {
    "collapsed": false,
    "ExecuteTime": {
     "end_time": "2024-03-31T10:36:13.558132500Z",
     "start_time": "2024-03-31T10:36:12.430022600Z"
    }
   },
   "id": "5a145ae6760e8145",
   "execution_count": 7
  },
  {
   "cell_type": "code",
   "outputs": [
    {
     "name": "stdout",
     "output_type": "stream",
     "text": [
      "Epoch: 1 Average loss: 9.069918\n",
      "Validation loss: 6.947213\n",
      "Accuracy on validation set: 0.929239\n",
      "Precision: 0.890331, Recall: 0.896579, F1: 0.893294\n",
      "Epoch 0: Validation loss improved, model saved to best_model.pth\n",
      "Epoch: 2 Average loss: 5.954319\n",
      "Validation loss: 5.604995\n",
      "Accuracy on validation set: 0.948818\n",
      "Precision: 0.917455, Recall: 0.930037, F1: 0.923034\n",
      "Epoch 1: Validation loss improved, model saved to best_model.pth\n",
      "Epoch: 3 Average loss: 3.496148\n",
      "Validation loss: 4.045819\n",
      "Accuracy on validation set: 0.968349\n",
      "Precision: 0.957374, Recall: 0.938196, F1: 0.947125\n",
      "Epoch 2: Validation loss improved, model saved to best_model.pth\n",
      "Epoch: 4 Average loss: 1.612657\n",
      "Validation loss: 3.696154\n",
      "Accuracy on validation set: 0.975461\n",
      "Precision: 0.958446, Recall: 0.964720, F1: 0.961515\n",
      "Epoch 3: Validation loss improved, model saved to best_model.pth\n",
      "Epoch: 5 Average loss: 0.825947\n",
      "Validation loss: 4.048457\n",
      "Accuracy on validation set: 0.979159\n",
      "Precision: 0.969718, Recall: 0.963898, F1: 0.966736\n",
      "Epoch 4: Validation loss did not improve from 3.696154\n",
      "Epoch: 6 Average loss: 0.498678\n",
      "Validation loss: 4.077701\n",
      "Accuracy on validation set: 0.980177\n",
      "Precision: 0.974140, Recall: 0.962601, F1: 0.968158\n",
      "Epoch 5: Validation loss did not improve from 3.696154\n",
      "Epoch: 7 Average loss: 0.339347\n",
      "Validation loss: 4.639565\n",
      "Accuracy on validation set: 0.980351\n",
      "Precision: 0.973668, Recall: 0.963794, F1: 0.968577\n",
      "Epoch 6: Validation loss did not improve from 3.696154\n",
      "Epoch: 8 Average loss: 0.271889\n",
      "Validation loss: 4.810761\n",
      "Accuracy on validation set: 0.978396\n",
      "Precision: 0.960234, Recall: 0.974057, F1: 0.966829\n",
      "Epoch 7: Validation loss did not improve from 3.696154\n",
      "Epoch: 9 Average loss: 0.224217\n",
      "Validation loss: 4.286699\n",
      "Accuracy on validation set: 0.980330\n",
      "Precision: 0.968045, Recall: 0.970987, F1: 0.969502\n",
      "Epoch 8: Validation loss did not improve from 3.696154\n",
      "Epoch: 10 Average loss: 0.191096\n"
     ]
    },
    {
     "name": "stderr",
     "output_type": "stream",
     "text": [
      "\n",
      "KeyboardInterrupt\n",
      "\n"
     ]
    }
   ],
   "source": [
    "from sklearn.metrics import precision_recall_fscore_support, accuracy_score\n",
    "\n",
    "epoch = 20\n",
    "optimizer = AdamW(model.parameters(), lr=1e-5)\n",
    "best_val_loss = float('inf')\n",
    "save_path = 'best_model.pth'\n",
    "\n",
    "model.train()\n",
    "for epoch in range(epoch):\n",
    "    train_loss = 0\n",
    "    for batch in train_dataloader:\n",
    "        \n",
    "        input_ids = batch['input_ids'].to(\"cuda:0\")\n",
    "        labels = batch['labels'].to(\"cuda:0\")\n",
    "        attention_masks = batch['attention_mask'].to('cuda:0')\n",
    "\n",
    "        loss = model(input_ids, attention_masks, labels=labels)\n",
    "        train_loss += loss.item()\n",
    "\n",
    "        optimizer.zero_grad()\n",
    "        loss.backward()\n",
    "        optimizer.step()\n",
    "        \n",
    "        torch.cuda.empty_cache()\n",
    "        \n",
    "    avg_epoch_loss = train_loss / len(train_dataloader)\n",
    "\n",
    "    print(\"Epoch: {} Average loss: {:.6f}\".format(epoch + 1, avg_epoch_loss))\n",
    "\n",
    "    model.eval()\n",
    "    val_loss = 0\n",
    "    predictions = []\n",
    "    true_labels_trimmed = []\n",
    "\n",
    "    with torch.no_grad():\n",
    "        for batch in val_dataloader:\n",
    "            input_ids = batch['input_ids'].to(\"cuda:0\")\n",
    "            labels = batch['labels'].to(\"cuda:0\")\n",
    "            attention_masks = batch['attention_mask'].to('cuda:0')\n",
    "        \n",
    "            loss = model(input_ids, attention_mask=attention_masks, labels=labels)\n",
    "            val_loss += loss.item()\n",
    "\n",
    "            predictions_batch = model(input_ids, attention_mask=attention_masks)\n",
    "\n",
    "\n",
    "            for num, pred in enumerate(predictions_batch):\n",
    "                \n",
    "                actual_length = len(pred)\n",
    "                trimmed_labels = labels[num][:actual_length]\n",
    "                true_labels_trimmed += trimmed_labels.tolist()\n",
    "                predictions += pred \n",
    "            \n",
    "    precision, recall, f1, _ = precision_recall_fscore_support(y_true=true_labels_trimmed, \n",
    "                                                               y_pred=predictions, \n",
    "                                                               average='macro'\n",
    "                                                               )\n",
    "    ac_socre = accuracy_score(y_true=true_labels_trimmed, y_pred=predictions)\n",
    "    avg_val_loss = val_loss / len(val_dataloader)\n",
    "    \n",
    "    print(f\"Validation loss: {avg_val_loss:.6f}\")\n",
    "    print(f'Accuracy on validation set: {ac_socre:.6f}')\n",
    "    print(f\"Precision: {precision:.6f}, Recall: {recall:.6f}, F1: {f1:.6f}\")\n",
    "    if avg_val_loss < best_val_loss:\n",
    "        best_val_loss = avg_val_loss  \n",
    "        best_epoch = epoch  \n",
    "        torch.save(model.state_dict(), save_path)  \n",
    "        print(f\"Epoch {epoch}: Validation loss improved, model saved to {save_path}\")\n",
    "    else:\n",
    "        print(f\"Epoch {epoch}: Validation loss did not improve from {best_val_loss:.6f}\")"
   ],
   "metadata": {
    "collapsed": false,
    "ExecuteTime": {
     "end_time": "2024-03-31T12:33:21.304592600Z",
     "start_time": "2024-03-31T10:36:13.561237500Z"
    }
   },
   "id": "1737a2b5119d9544",
   "execution_count": 8
  }
 ],
 "metadata": {
  "kernelspec": {
   "display_name": "Python 3",
   "language": "python",
   "name": "python3"
  },
  "language_info": {
   "codemirror_mode": {
    "name": "ipython",
    "version": 2
   },
   "file_extension": ".py",
   "mimetype": "text/x-python",
   "name": "python",
   "nbconvert_exporter": "python",
   "pygments_lexer": "ipython2",
   "version": "2.7.6"
  }
 },
 "nbformat": 4,
 "nbformat_minor": 5
}
