{
 "cells": [
  {
   "cell_type": "code",
   "outputs": [
    {
     "name": "stdout",
     "output_type": "stream",
     "text": [
      "env: CUDA_LAUNCH_BLOCKING=1\n"
     ]
    }
   ],
   "source": [
    "%env CUDA_LAUNCH_BLOCKING=1"
   ],
   "metadata": {
    "collapsed": false,
    "ExecuteTime": {
     "end_time": "2024-03-26T07:13:33.025874800Z",
     "start_time": "2024-03-26T07:13:33.019176700Z"
    }
   },
   "id": "d27e508d2ca0b92a",
   "execution_count": 1
  },
  {
   "cell_type": "code",
   "outputs": [],
   "source": [
    "import torch\n",
    "from torch.nn.utils.rnn import pad_sequence\n",
    "from torch.optim import AdamW\n",
    "from torch.utils.data import DataLoader\n",
    "from transformers import BertTokenizerFast\n",
    "from BertCRF import BertCRF\n",
    "import datasets\n",
    "from dataloader import NERDataset\n",
    "\n",
    "\n",
    "# load data\n",
    "data = datasets.load_dataset('../../data/ner1', split='train')\n",
    "\n",
    "# tokenize\n",
    "tokenizer = BertTokenizerFast.from_pretrained(\"bert-base-uncased\")\n",
    "\n",
    "def align_labels(text, tags):\n",
    "    tokenized_inputs = tokenizer(text, truncation=True, padding=True, max_length=512, return_offsets_mapping=True,\n",
    "                                is_split_into_words=False)\n",
    "    offsets = tokenized_inputs['offset_mapping']\n",
    "    new_labels = []\n",
    "    new_mask = []\n",
    "    tag_index = 0\n",
    "\n",
    "    for offset in offsets[0]:\n",
    "        if offset == (0, 0):\n",
    "            new_labels.append(0)\n",
    "            new_mask.append(0)\n",
    "        else:\n",
    "\n",
    "            if tag_index < len(tags):\n",
    "                new_labels.append(tags[tag_index])\n",
    "                new_mask.append(tokenized_inputs['attention_mask'][tag_index])\n",
    "                tag_index += 1\n",
    "            else:\n",
    "                new_labels.append(0)\n",
    "                new_mask.append(0)\n",
    "\n",
    "    while len(new_labels) < len(tokenized_inputs['input_ids']):\n",
    "        new_labels.append(0)\n",
    "        new_mask.append(0)\n",
    "    return {\n",
    "        \"input_ids\": torch.tensor(tokenized_inputs['input_ids']),\n",
    "        \"attention_mask\": torch.tensor(new_mask),\n",
    "        \"labels\": torch.tensor(new_labels)\n",
    "    }\n",
    "\n",
    "def token_func(batch):\n",
    "\n",
    "    batch_input_ids = []\n",
    "    batch_attention_mask = []\n",
    "    batch_labels = []\n",
    "\n",
    "    for item in batch:\n",
    "\n",
    "        tokenized_and_aligned = align_labels(text=item['text'], tags=item['tags'])\n",
    "        batch_input_ids.append(tokenized_and_aligned['input_ids'])\n",
    "        batch_attention_mask.append(tokenized_and_aligned['attention_mask'])\n",
    "        batch_labels.append(tokenized_and_aligned['labels'])\n",
    "\n",
    "    input_ids = pad_sequence(batch_input_ids, batch_first=True, padding_value=tokenizer.pad_token_id)\n",
    "    attention_mask = pad_sequence(batch_attention_mask, batch_first=True, padding_value=0)\n",
    "    labels = pad_sequence(batch_labels, batch_first=True, padding_value=0)\n",
    "\n",
    "\n",
    "    return {\n",
    "        \"input_ids\": input_ids,\n",
    "        \"attention_mask\": attention_mask,\n",
    "        \"labels\": labels\n",
    "    }\n",
    "\n",
    "batch_size = 16\n",
    "data = NERDataset(data)\n",
    "\n",
    "dataloader = DataLoader(data, batch_size=batch_size, shuffle=True, collate_fn=token_func)\n",
    "\n",
    "model = BertCRF('bert-base-uncased', num_tags=9).to(\"cuda:0\")\n",
    "\n",
    "ecohs = 20\n",
    "optimizer = AdamW(model.parameters(), lr=5e-5)\n",
    "for i in range(ecohs):\n",
    "    train_loss = 0\n",
    "    for batch in dataloader:\n",
    "        input_ids = batch['input_ids'].to(\"cuda:0\")\n",
    "\n",
    "        labels = batch['labels'].to(\"cuda:0\")\n",
    "\n",
    "        # tags = batch['tags'].to(\"cuda:0\")\n",
    "        attention_masks = batch['attention_mask'].to('cuda:0')\n",
    "\n",
    "        loss = model(input_ids, attention_masks, labels=labels)\n",
    "\n",
    "        train_loss += loss.item()\n",
    "\n",
    "        optimizer.zero_grad()\n",
    "        loss.backward()\n",
    "\n",
    "        optimizer.step()\n",
    "    avg_epoch_loss = train_loss / len(dataloader)\n",
    "\n",
    "    print(\"Epoch: {} Average loss: {:.4f}\".format(i + 1, avg_epoch_loss))\n"
   ],
   "metadata": {
    "collapsed": false
   },
   "id": "5a145ae6760e8145",
   "execution_count": null
  }
 ],
 "metadata": {
  "kernelspec": {
   "display_name": "Python 3",
   "language": "python",
   "name": "python3"
  },
  "language_info": {
   "codemirror_mode": {
    "name": "ipython",
    "version": 2
   },
   "file_extension": ".py",
   "mimetype": "text/x-python",
   "name": "python",
   "nbconvert_exporter": "python",
   "pygments_lexer": "ipython2",
   "version": "2.7.6"
  }
 },
 "nbformat": 4,
 "nbformat_minor": 5
}
