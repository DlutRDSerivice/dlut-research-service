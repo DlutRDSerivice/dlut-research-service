{
 "cells": [
  {
   "cell_type": "code",
   "outputs": [
    {
     "name": "stdout",
     "output_type": "stream",
     "text": [
      "env: CUDA_LAUNCH_BLOCKING=1\n"
     ]
    }
   ],
   "source": [
    "%env CUDA_LAUNCH_BLOCKING=1"
   ],
   "metadata": {
    "collapsed": false,
    "ExecuteTime": {
     "end_time": "2024-03-31T07:46:52.910873200Z",
     "start_time": "2024-03-31T07:46:52.895879Z"
    }
   },
   "id": "d27e508d2ca0b92a",
   "execution_count": 1
  },
  {
   "cell_type": "code",
   "outputs": [],
   "source": [
    "import torch\n",
    "from torch.nn.utils.rnn import pad_sequence\n",
    "from torch.optim import AdamW\n",
    "from torch.utils.data import DataLoader\n",
    "from transformers import BertTokenizerFast\n",
    "from BertCRF import BertCRF\n",
    "import datasets\n",
    "from dataloader import NERDataset"
   ],
   "metadata": {
    "collapsed": false,
    "ExecuteTime": {
     "end_time": "2024-03-31T07:46:55.261624300Z",
     "start_time": "2024-03-31T07:46:52.900486100Z"
    }
   },
   "id": "12262526d1e689da",
   "execution_count": 2
  },
  {
   "cell_type": "code",
   "outputs": [],
   "source": [
    "# load data\n",
    "data = datasets.load_dataset(\"json\", data_files='dataset.json', split='train')\n",
    "train_dataset, val_dataset = data.train_test_split(test_size=0.2).values()"
   ],
   "metadata": {
    "collapsed": false,
    "ExecuteTime": {
     "end_time": "2024-03-31T07:46:58.187779400Z",
     "start_time": "2024-03-31T07:46:55.261624300Z"
    }
   },
   "id": "9993b17fe70512ea",
   "execution_count": 3
  },
  {
   "cell_type": "code",
   "outputs": [],
   "source": [
    "tokenizer = BertTokenizerFast.from_pretrained(\"bert-base-uncased\")"
   ],
   "metadata": {
    "collapsed": false,
    "ExecuteTime": {
     "end_time": "2024-03-31T07:46:59.311419Z",
     "start_time": "2024-03-31T07:46:58.188850600Z"
    }
   },
   "id": "22033cd5a976321f",
   "execution_count": 4
  },
  {
   "cell_type": "code",
   "outputs": [],
   "source": [
    "# process the EOS tag\n",
    "def align_labels(text, tags):\n",
    "    tokenized_inputs = tokenizer(text, truncation=True, padding=True, max_length=512, return_offsets_mapping=True,\n",
    "                                is_split_into_words=False)\n",
    "    offsets = tokenized_inputs['offset_mapping']\n",
    "    new_labels = []\n",
    "    tag_index = 0\n",
    "\n",
    "    for offset in offsets:\n",
    "        if offset == (0, 0):\n",
    "            new_labels.append(0)\n",
    "        else:\n",
    "            if tag_index < len(tags):\n",
    "                new_labels.append(tags[tag_index])\n",
    "                tag_index += 1\n",
    "            else:\n",
    "                new_labels.append(0)\n",
    "\n",
    "    while len(new_labels) < len(tokenized_inputs['input_ids']):\n",
    "        new_labels.append(0)\n",
    "    return {\n",
    "        \"input_ids\": torch.tensor(tokenized_inputs['input_ids']),\n",
    "        \"attention_mask\": torch.tensor(tokenized_inputs['attention_mask']),\n",
    "        \"labels\": torch.tensor(new_labels)\n",
    "    }"
   ],
   "metadata": {
    "collapsed": false,
    "ExecuteTime": {
     "end_time": "2024-03-31T07:46:59.338115900Z",
     "start_time": "2024-03-31T07:46:59.314152900Z"
    }
   },
   "id": "6bdd245cf1db2be9",
   "execution_count": 5
  },
  {
   "cell_type": "code",
   "outputs": [],
   "source": [
    "# padding tag and mask to remain the same dim of inputs_ids\n",
    "def token_func(batch):\n",
    "\n",
    "    batch_input_ids = []\n",
    "    batch_attention_mask = []\n",
    "    batch_labels = []\n",
    "\n",
    "    for item in batch:\n",
    "\n",
    "        tokenized_and_aligned = align_labels(text=item['text'], tags=item['tags'])\n",
    "        batch_input_ids.append(tokenized_and_aligned['input_ids'])\n",
    "        batch_attention_mask.append(tokenized_and_aligned['attention_mask'])\n",
    "        batch_labels.append(tokenized_and_aligned['labels'])\n",
    "\n",
    "    input_ids = pad_sequence(batch_input_ids, batch_first=True, padding_value=tokenizer.pad_token_id)\n",
    "    attention_mask = pad_sequence(batch_attention_mask, batch_first=True, padding_value=0)\n",
    "    labels = pad_sequence(batch_labels, batch_first=True, padding_value=0)\n",
    "\n",
    "    return {\n",
    "        \"input_ids\": input_ids,\n",
    "        \"attention_mask\": attention_mask,\n",
    "        \"labels\": labels\n",
    "    }"
   ],
   "metadata": {
    "collapsed": false,
    "ExecuteTime": {
     "end_time": "2024-03-31T07:46:59.338115900Z",
     "start_time": "2024-03-31T07:46:59.316764Z"
    }
   },
   "id": "9143e2cab2081b9c",
   "execution_count": 6
  },
  {
   "cell_type": "code",
   "outputs": [],
   "source": [
    "batch_size = 16\n",
    "train_dataset = NERDataset(train_dataset)\n",
    "val_dataset = NERDataset(val_dataset)\n",
    "\n",
    "train_dataloader = DataLoader(train_dataset, batch_size=batch_size, shuffle=True, collate_fn=token_func)\n",
    "val_dataloader = DataLoader(val_dataset, batch_size=batch_size, shuffle=False, collate_fn=token_func)\n",
    "\n",
    "model = BertCRF('bert-base-uncased', num_tags=9).to(\"cuda:0\")"
   ],
   "metadata": {
    "collapsed": false,
    "ExecuteTime": {
     "end_time": "2024-03-31T07:47:00.449989700Z",
     "start_time": "2024-03-31T07:46:59.324556500Z"
    }
   },
   "id": "5a145ae6760e8145",
   "execution_count": 7
  },
  {
   "cell_type": "code",
   "outputs": [],
   "source": [
    "from sklearn.metrics import precision_recall_fscore_support, accuracy_score\n",
    "\n",
    "ecohs = 20\n",
    "optimizer = AdamW(model.parameters(), lr=1e-5)\n",
    "best_val_loss = float('inf')\n",
    "save_path = 'best_model.pth'\n",
    "\n",
    "model.train()\n",
    "for epoch in range(ecohs):\n",
    "    train_loss = 0\n",
    "    for batch in train_dataloader:\n",
    "        \n",
    "        input_ids = batch['input_ids'].to(\"cuda:0\")\n",
    "        labels = batch['labels'].to(\"cuda:0\")\n",
    "        attention_masks = batch['attention_mask'].to('cuda:0')\n",
    "\n",
    "        loss = model(input_ids, attention_masks, labels=labels)\n",
    "        train_loss += loss.item()\n",
    "\n",
    "        optimizer.zero_grad()\n",
    "        loss.backward()\n",
    "        optimizer.step()\n",
    "        \n",
    "        torch.cuda.empty_cache()\n",
    "        \n",
    "    avg_epoch_loss = train_loss / len(train_dataloader)\n",
    "\n",
    "    print(\"Epoch: {} Average loss: {:.6f}\".format(i + 1, avg_epoch_loss))\n",
    "\n",
    "    model.eval()\n",
    "    val_loss = 0\n",
    "    predictions = []\n",
    "    true_labels_trimmed = []\n",
    "\n",
    "    with torch.no_grad():\n",
    "        for batch in val_dataloader:\n",
    "            input_ids = batch['input_ids'].to(\"cuda:0\")\n",
    "            labels = batch['labels'].to(\"cuda:0\")\n",
    "            attention_masks = batch['attention_mask'].to('cuda:0')\n",
    "        \n",
    "            loss = model(input_ids, attention_mask=attention_masks, labels=labels)\n",
    "            val_loss += loss.item()\n",
    "\n",
    "            predictions_batch = model(input_ids, attention_mask=attention_masks)\n",
    "\n",
    "\n",
    "            for num, pred in enumerate(predictions_batch):\n",
    "                \n",
    "                actual_length = len(pred)\n",
    "                trimmed_labels = labels[num][:actual_length]\n",
    "                true_labels_trimmed += trimmed_labels.tolist()\n",
    "                predictions += pred \n",
    "            \n",
    "    precision, recall, f1, _ = precision_recall_fscore_support(y_true=true_labels_trimmed, \n",
    "                                                               y_pred=predictions, \n",
    "                                                               average='micro'\n",
    "                                                               )\n",
    "    ac_sorce = accuracy_score(y_true=true_labels_trimmed, y_pred=predictions)\n",
    "    avg_val_loss = val_loss / len(val_dataloader)\n",
    "    \n",
    "    print(f\"Validation loss: {avg_val_loss:.6f}\")\n",
    "    print(f'Accuracy on validation set: {ac_sorce:.6f}')\n",
    "    print(f\"Precision: {precision:.6f}, Recall: {recall:.6f}, F1: {f1:.6f}\")\n",
    "    if avg_val_loss < best_val_loss:\n",
    "        best_val_loss = avg_val_loss  \n",
    "        best_epoch = epoch  \n",
    "        torch.save(model.state_dict(), save_path)  \n",
    "        print(f\"Epoch {epoch}: Validation loss improved, model saved to {save_path}\")\n",
    "    else:\n",
    "        print(f\"Epoch {epoch}: Validation loss did not improve from {best_val_loss:.6f}\")"
   ],
   "metadata": {
    "collapsed": false,
    "is_executing": true,
    "ExecuteTime": {
     "start_time": "2024-03-31T07:47:00.451022800Z"
    }
   },
   "id": "1737a2b5119d9544",
   "execution_count": null
  }
 ],
 "metadata": {
  "kernelspec": {
   "display_name": "Python 3",
   "language": "python",
   "name": "python3"
  },
  "language_info": {
   "codemirror_mode": {
    "name": "ipython",
    "version": 2
   },
   "file_extension": ".py",
   "mimetype": "text/x-python",
   "name": "python",
   "nbconvert_exporter": "python",
   "pygments_lexer": "ipython2",
   "version": "2.7.6"
  }
 },
 "nbformat": 4,
 "nbformat_minor": 5
}
